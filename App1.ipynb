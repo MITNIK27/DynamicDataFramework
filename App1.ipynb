{
 "cells": [
  {
   "cell_type": "code",
   "execution_count": 2,
   "id": "b0a24d1d-7c68-4951-ba7c-44a3f9ff947d",
   "metadata": {},
   "outputs": [
    {
     "name": "stdout",
     "output_type": "stream",
     "text": [
      "Node(AND, Node(operand, None, None, age > 30), Node(operand, None, None, department = 'Sales'), None)\n"
     ]
    }
   ],
   "source": [
    "class Node:\n",
    "    def __init__(self, node_type, left=None, right=None, value=None):\n",
    "        self.type = node_type  # \"operator\" or \"operand\"\n",
    "        self.left = left  # Left child node\n",
    "        self.right = right  # Right child node\n",
    "        self.value = value  # Value for operand nodes (None for operator nodes)\n",
    "\n",
    "    def __repr__(self):\n",
    "        return f\"Node({self.type}, {self.left}, {self.right}, {self.value})\"\n",
    "\n",
    "# Example of how to create an AST manually\n",
    "# Rule: (age > 30 AND department = 'Sales')\n",
    "node = Node(\"AND\",\n",
    "            left=Node(\"operand\", value=\"age > 30\"),\n",
    "            right=Node(\"operand\", value=\"department = 'Sales'\"))\n",
    "print(node)\n"
   ]
  },
  {
   "cell_type": "code",
   "execution_count": 3,
   "id": "0075cd64-d162-4f98-b43b-1cf9bcd10685",
   "metadata": {},
   "outputs": [
    {
     "name": "stdout",
     "output_type": "stream",
     "text": [
      "Node(AND, Node(operand, None, None, age > 30), Node(operand, None, None, department = 'Sales'), None)\n"
     ]
    }
   ],
   "source": [
    "import re\n",
    "\n",
    "def create_rule(rule_string):\n",
    "    # Parse the rule using regex and build the AST\n",
    "    if \"AND\" in rule_string:\n",
    "        operator = \"AND\"\n",
    "    elif \"OR\" in rule_string:\n",
    "        operator = \"OR\"\n",
    "    else:\n",
    "        raise ValueError(\"Unsupported operator\")\n",
    "\n",
    "    operands = re.split(f\"\\s{operator}\\s\", rule_string)\n",
    "    left_operand = operands[0].strip()\n",
    "    right_operand = operands[1].strip()\n",
    "    \n",
    "    return Node(operator, \n",
    "                left=Node(\"operand\", value=left_operand), \n",
    "                right=Node(\"operand\", value=right_operand))\n",
    "\n",
    "rule1 = \"age > 30 AND department = 'Sales'\"\n",
    "ast = create_rule(rule1)\n",
    "print(ast)\n"
   ]
  },
  {
   "cell_type": "code",
   "execution_count": 4,
   "id": "e4720fd0-d7f9-4cf9-8b7a-6c9a8caac478",
   "metadata": {},
   "outputs": [
    {
     "name": "stdout",
     "output_type": "stream",
     "text": [
      "Node(AND, Node(AND, Node(operand, None, None, age > 30), Node(operand, None, None, department = 'Sales'), None), Node(OR, Node(operand, None, None, salary > 50000), Node(operand, None, None, experience > 5), None), None)\n"
     ]
    }
   ],
   "source": [
    "def combine_rules(rule_strings):\n",
    "    combined_rule = None\n",
    "    for rule in rule_strings:\n",
    "        ast = create_rule(rule)\n",
    "        if combined_rule:\n",
    "            combined_rule = Node(\"AND\", left=combined_rule, right=ast)\n",
    "        else:\n",
    "            combined_rule = ast\n",
    "    return combined_rule\n",
    "\n",
    "rules = [\"age > 30 AND department = 'Sales'\", \"salary > 50000 OR experience > 5\"]\n",
    "combined_ast = combine_rules(rules)\n",
    "print(combined_ast)\n"
   ]
  },
  {
   "cell_type": "code",
   "execution_count": 5,
   "id": "01eb439b-7a27-4c2f-95d0-f5ebe874787a",
   "metadata": {},
   "outputs": [
    {
     "name": "stdout",
     "output_type": "stream",
     "text": [
      "True\n"
     ]
    }
   ],
   "source": [
    "def evaluate_node(node, data):\n",
    "    if node.type == \"operand\":\n",
    "        # Parse and evaluate the operand\n",
    "        key, operator, value = re.split(r\"\\s(>|<|=)\\s\", node.value)\n",
    "        key = key.strip()\n",
    "        value = value.strip().replace(\"'\", \"\")\n",
    "        if operator == \">\":\n",
    "            return data[key] > int(value)\n",
    "        elif operator == \"<\":\n",
    "            return data[key] < int(value)\n",
    "        elif operator == \"=\":\n",
    "            return data[key] == value\n",
    "    elif node.type == \"AND\":\n",
    "        return evaluate_node(node.left, data) and evaluate_node(node.right, data)\n",
    "    elif node.type == \"OR\":\n",
    "        return evaluate_node(node.left, data) or evaluate_node(node.right, data)\n",
    "    return False\n",
    "\n",
    "# Test evaluation\n",
    "data = {\"age\": 35, \"department\": \"Sales\", \"salary\": 60000, \"experience\": 3}\n",
    "print(evaluate_node(combined_ast, data))\n"
   ]
  },
  {
   "cell_type": "code",
   "execution_count": 6,
   "id": "4c6cf46a-fd7b-4298-8654-a5820ed6d8c5",
   "metadata": {},
   "outputs": [
    {
     "name": "stdout",
     "output_type": "stream",
     "text": [
      "Node(AND, Node(operand, None, None, age > 30), Node(operand, None, None, department = 'Sales'), None)\n",
      "Node(AND, Node(AND, Node(operand, None, None, age > 30), Node(operand, None, None, department = 'Sales'), None), Node(OR, Node(operand, None, None, salary > 50000), Node(operand, None, None, experience > 5), None), None)\n",
      "True\n"
     ]
    }
   ],
   "source": [
    "# Test Case 1: Single rule creation\n",
    "rule1_ast = create_rule(\"age > 30 AND department = 'Sales'\")\n",
    "print(rule1_ast)\n",
    "\n",
    "# Test Case 2: Combine rules\n",
    "combined_ast = combine_rules([\"age > 30 AND department = 'Sales'\", \"salary > 50000 OR experience > 5\"])\n",
    "print(combined_ast)\n",
    "\n",
    "# Test Case 3: Evaluate rule with JSON data\n",
    "data = {\"age\": 35, \"department\": \"Sales\", \"salary\": 60000, \"experience\": 3}\n",
    "print(evaluate_node(combined_ast, data))  # Expected: True\n"
   ]
  },
  {
   "cell_type": "code",
   "execution_count": 8,
   "id": "55ae8d09-7256-4989-ad4d-ac151e488294",
   "metadata": {},
   "outputs": [
    {
     "name": "stdout",
     "output_type": "stream",
     "text": [
      "Node(AND, Node(operand, None, None, age > 30), Node(operand, None, None, department = 'Sales'), None)\n",
      "Error: Missing operator in the rule string. Rule must contain AND or OR.\n"
     ]
    }
   ],
   "source": [
    "#BONUS\n",
    "import re\n",
    "\n",
    "class InvalidRuleException(Exception):\n",
    "    pass\n",
    "\n",
    "def create_rule(rule_string):\n",
    "    # Check if the rule contains a valid operator (AND/OR)\n",
    "    if \"AND\" not in rule_string and \"OR\" not in rule_string:\n",
    "        raise InvalidRuleException(\"Missing operator in the rule string. Rule must contain AND or OR.\")\n",
    "    \n",
    "    # Parse the rule using regex and build the AST\n",
    "    operator = \"AND\" if \"AND\" in rule_string else \"OR\"\n",
    "    \n",
    "    # Split the operands\n",
    "    operands = re.split(f\"\\s{operator}\\s\", rule_string)\n",
    "    \n",
    "    # Ensure there are exactly two operands\n",
    "    if len(operands) != 2:\n",
    "        raise InvalidRuleException(f\"Invalid rule format: {rule_string}\")\n",
    "    \n",
    "    # Validate operand format (simple validation, you can expand this for more complex cases)\n",
    "    def validate_operand(operand):\n",
    "        if not re.match(r\"^[a-zA-Z_]+\\s*(>|<|=)\\s*[0-9a-zA-Z'_]+$\", operand):\n",
    "            raise InvalidRuleException(f\"Invalid comparison in operand: {operand}\")\n",
    "    \n",
    "    left_operand = operands[0].strip()\n",
    "    right_operand = operands[1].strip()\n",
    "    \n",
    "    validate_operand(left_operand)\n",
    "    validate_operand(right_operand)\n",
    "    \n",
    "    return Node(operator, \n",
    "                left=Node(\"operand\", value=left_operand), \n",
    "                right=Node(\"operand\", value=right_operand))\n",
    "\n",
    "# Test with a valid rule\n",
    "try:\n",
    "    rule1 = \"age > 30 AND department = 'Sales'\"\n",
    "    ast = create_rule(rule1)\n",
    "    print(ast)\n",
    "except InvalidRuleException as e:\n",
    "    print(e)\n",
    "\n",
    "# Test with an invalid rule (missing operator)\n",
    "try:\n",
    "    invalid_rule = \"age > 30 department = 'Sales'\"\n",
    "    ast = create_rule(invalid_rule)\n",
    "except InvalidRuleException as e:\n",
    "    print(f\"Error: {e}\")\n"
   ]
  },
  {
   "cell_type": "code",
   "execution_count": 9,
   "id": "4090db34-f9ed-4bb5-a643-af8de79cd366",
   "metadata": {},
   "outputs": [],
   "source": [
    "valid_attributes = [\"age\", \"department\", \"salary\", \"experience\"]\n",
    "\n",
    "def validate_operand(operand):\n",
    "    # Extract the attribute (everything before the operator)\n",
    "    match = re.match(r\"^([a-zA-Z_]+)\\s*(>|<|=)\\s*[0-9a-zA-Z'_]+$\", operand)\n",
    "    if not match:\n",
    "        raise InvalidRuleException(f\"Invalid comparison in operand: {operand}\")\n",
    "    \n",
    "    attribute = match.group(1)\n",
    "    if attribute not in valid_attributes:\n",
    "        raise InvalidRuleException(f\"Invalid attribute '{attribute}' used in operand. Must be one of {valid_attributes}.\")\n",
    "\n",
    "# Test with an invalid attribute\n",
    "try:\n",
    "    invalid_rule = \"height > 180 AND department = 'Sales'\"\n",
    "    ast = create_rule(invalid_rule)\n",
    "except InvalidRuleException as e:\n",
    "    print(f\"Error: {e}\")\n"
   ]
  },
  {
   "cell_type": "code",
   "execution_count": 10,
   "id": "40733ae3-bce0-4591-b598-d68b34e2a4a2",
   "metadata": {},
   "outputs": [
    {
     "name": "stdout",
     "output_type": "stream",
     "text": [
      "Original AST: Node(AND, Node(operand, None, None, age > 30), Node(operand, None, None, department = 'Sales'), None)\n",
      "Modified AST (Operator Changed): Node(OR, Node(operand, None, None, age > 30), Node(operand, None, None, department = 'Sales'), None)\n"
     ]
    }
   ],
   "source": [
    "def modify_rule(ast, modification_type, new_value):\n",
    "    \"\"\"\n",
    "    Modify an existing rule's AST.\n",
    "    \n",
    "    :param ast: The root of the AST to modify.\n",
    "    :param modification_type: Type of modification (\"change_operator\", \"change_operand\", \"add_subexpression\").\n",
    "    :param new_value: New value or node to modify the AST with.\n",
    "    :return: Modified AST.\n",
    "    \"\"\"\n",
    "    if modification_type == \"change_operator\":\n",
    "        if ast.type == \"AND\" or ast.type == \"OR\":\n",
    "            ast.type = new_value  # Change the operator (\"AND\" or \"OR\")\n",
    "        else:\n",
    "            raise InvalidRuleException(\"Cannot change operator on non-operator node.\")\n",
    "    elif modification_type == \"change_operand\":\n",
    "        if ast.type == \"operand\":\n",
    "            ast.value = new_value  # Change the operand value\n",
    "        else:\n",
    "            raise InvalidRuleException(\"Cannot change operand on non-operand node.\")\n",
    "    elif modification_type == \"add_subexpression\":\n",
    "        if ast.type == \"AND\" or ast.type == \"OR\":\n",
    "            new_node = create_rule(new_value)  # Create a new subexpression as an AST\n",
    "            ast.right = Node(ast.type, left=ast.right, right=new_node)  # Add new subexpression as right child\n",
    "        else:\n",
    "            raise InvalidRuleException(\"Can only add sub-expressions to operator nodes.\")\n",
    "    else:\n",
    "        raise InvalidRuleException(\"Invalid modification type.\")\n",
    "    \n",
    "    return ast\n",
    "\n",
    "# Test rule modification (Change Operator)\n",
    "try:\n",
    "    rule_ast = create_rule(\"age > 30 AND department = 'Sales'\")\n",
    "    print(\"Original AST:\", rule_ast)\n",
    "    modified_ast = modify_rule(rule_ast, \"change_operator\", \"OR\")\n",
    "    print(\"Modified AST (Operator Changed):\", modified_ast)\n",
    "except InvalidRuleException as e:\n",
    "    print(f\"Error: {e}\")\n"
   ]
  },
  {
   "cell_type": "code",
   "execution_count": 11,
   "id": "bc8ab6ea-7da4-4aef-8b62-5bfd1568b92e",
   "metadata": {},
   "outputs": [
    {
     "name": "stdout",
     "output_type": "stream",
     "text": [
      "Error: Invalid comparison in operand: is_high_income\n"
     ]
    }
   ],
   "source": [
    "# Define a dictionary of user-defined functions\n",
    "user_defined_functions = {\n",
    "    \"is_high_income\": lambda salary: salary > 100000,\n",
    "    \"is_senior_employee\": lambda experience: experience > 10\n",
    "}\n",
    "\n",
    "def evaluate_node(node, data, user_functions=None):\n",
    "    if node.type == \"operand\":\n",
    "        # Parse and evaluate the operand\n",
    "        key, operator, value = re.split(r\"\\s(>|<|=)\\s\", node.value)\n",
    "        key = key.strip()\n",
    "        value = value.strip().replace(\"'\", \"\")\n",
    "        \n",
    "        if key in user_functions:\n",
    "            # If key is a user-defined function, use it\n",
    "            return user_functions[key](data.get(key))\n",
    "        \n",
    "        if operator == \">\":\n",
    "            return data[key] > int(value)\n",
    "        elif operator == \"<\":\n",
    "            return data[key] < int(value)\n",
    "        elif operator == \"=\":\n",
    "            return data[key] == value\n",
    "    elif node.type == \"AND\":\n",
    "        return evaluate_node(node.left, data, user_functions) and evaluate_node(node.right, data, user_functions)\n",
    "    elif node.type == \"OR\":\n",
    "        return evaluate_node(node.left, data, user_functions) or evaluate_node(node.right, data, user_functions)\n",
    "    return False\n",
    "\n",
    "# Test evaluation with user-defined function\n",
    "data = {\"salary\": 120000, \"experience\": 15}\n",
    "try:\n",
    "    rule_with_func = \"is_high_income AND is_senior_employee\"\n",
    "    ast_with_func = create_rule(rule_with_func)\n",
    "    result = evaluate_node(ast_with_func, data, user_defined_functions)\n",
    "    print(f\"Evaluation result with user-defined functions: {result}\")\n",
    "except InvalidRuleException as e:\n",
    "    print(f\"Error: {e}\")\n"
   ]
  },
  {
   "cell_type": "code",
   "execution_count": null,
   "id": "adb89e16-b255-4571-a4dd-7677f7a919fb",
   "metadata": {},
   "outputs": [],
   "source": []
  }
 ],
 "metadata": {
  "kernelspec": {
   "display_name": "Python 3 (ipykernel)",
   "language": "python",
   "name": "python3"
  },
  "language_info": {
   "codemirror_mode": {
    "name": "ipython",
    "version": 3
   },
   "file_extension": ".py",
   "mimetype": "text/x-python",
   "name": "python",
   "nbconvert_exporter": "python",
   "pygments_lexer": "ipython3",
   "version": "3.11.5"
  }
 },
 "nbformat": 4,
 "nbformat_minor": 5
}
